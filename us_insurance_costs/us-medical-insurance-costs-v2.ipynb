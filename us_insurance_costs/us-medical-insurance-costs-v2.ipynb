{
 "metadata": {
  "language_info": {
   "codemirror_mode": {
    "name": "ipython",
    "version": 3
   },
   "file_extension": ".py",
   "mimetype": "text/x-python",
   "name": "python",
   "nbconvert_exporter": "python",
   "pygments_lexer": "ipython3",
   "version": "3.9.5"
  },
  "orig_nbformat": 4,
  "kernelspec": {
   "name": "python3",
   "display_name": "Python 3.9.5 64-bit"
  },
  "interpreter": {
   "hash": "9c693a6a3b0d90c3eef53d3b7307e068b6634149af4009f72d56cc9f488b7bff"
  }
 },
 "nbformat": 4,
 "nbformat_minor": 2,
 "cells": [
  {
   "source": [
    "# U.S. Medical Insurance Costs\n"
   ],
   "cell_type": "markdown",
   "metadata": {}
  },
  {
   "source": [
    "I've been given a .csv full of insurance data in the following format:\n",
    "age, sex, bmi, children, smoker, region, charges\n",
    "\n",
    "**Goals**:\n",
    "Identify the different insurance costs for individuals, based on their age, sex, bmi, etc. Determine the marginal cost, for increasing in any of these areas.\n",
    "* Investigate the difference in prices between men and women\n",
    "    * Compare both women with children, and women without to men to determine if children is the main culprit for any cost varience\n",
    "    * Compare the women's cost for each additional child, and find the average increase per child.\n",
    "* How does BMI coorolate with insurance cost. Identify the marginal cost for each additional unit of BMI\n",
    "    * Men vs. Women\n",
    "    * Plot relationship and marginal cost increases\n",
    "    * *This might not be a linear relationship, if so maybe group by different \"tiers\" of BMI values*\n",
    "\n",
    "**Side Goals**:\n",
    "* Find the average age for women with X children.\n",
    "\n",
    "**Plan**:\n",
    "* Identify some basic facts about the data, and if it is a representative sample of the population:\n",
    "    * How many men vs. women\n",
    "    * Average age for Men vs. Women\n",
    "    * Where are they located\n",
    "    * Average amount of children\n",
    "    * Breakdown of smoker/non-smoker, breakdown by men and women\n",
    "    * Average BMI, average for both men and women\n",
    "* Begin analysis"
   ],
   "cell_type": "markdown",
   "metadata": {}
  },
  {
   "source": [
    "Importing pandas, and reading data"
   ],
   "cell_type": "markdown",
   "metadata": {}
  },
  {
   "source": [
    "import pandas as pd \n",
    "\n",
    "us_insurance_costs = pd.read_csv(\"insurance.csv\")\n",
    "us_insurance_costs.head(10)"
   ],
   "cell_type": "code",
   "metadata": {},
   "execution_count": 2,
   "outputs": [
    {
     "output_type": "execute_result",
     "data": {
      "text/plain": [
       "   age     sex     bmi  children smoker     region      charges\n",
       "0   19  female  27.900         0    yes  southwest  16884.92400\n",
       "1   18    male  33.770         1     no  southeast   1725.55230\n",
       "2   28    male  33.000         3     no  southeast   4449.46200\n",
       "3   33    male  22.705         0     no  northwest  21984.47061\n",
       "4   32    male  28.880         0     no  northwest   3866.85520\n",
       "5   31  female  25.740         0     no  southeast   3756.62160\n",
       "6   46  female  33.440         1     no  southeast   8240.58960\n",
       "7   37  female  27.740         3     no  northwest   7281.50560\n",
       "8   37    male  29.830         2     no  northeast   6406.41070\n",
       "9   60  female  25.840         0     no  northwest  28923.13692"
      ],
      "text/html": "<div>\n<style scoped>\n    .dataframe tbody tr th:only-of-type {\n        vertical-align: middle;\n    }\n\n    .dataframe tbody tr th {\n        vertical-align: top;\n    }\n\n    .dataframe thead th {\n        text-align: right;\n    }\n</style>\n<table border=\"1\" class=\"dataframe\">\n  <thead>\n    <tr style=\"text-align: right;\">\n      <th></th>\n      <th>age</th>\n      <th>sex</th>\n      <th>bmi</th>\n      <th>children</th>\n      <th>smoker</th>\n      <th>region</th>\n      <th>charges</th>\n    </tr>\n  </thead>\n  <tbody>\n    <tr>\n      <th>0</th>\n      <td>19</td>\n      <td>female</td>\n      <td>27.900</td>\n      <td>0</td>\n      <td>yes</td>\n      <td>southwest</td>\n      <td>16884.92400</td>\n    </tr>\n    <tr>\n      <th>1</th>\n      <td>18</td>\n      <td>male</td>\n      <td>33.770</td>\n      <td>1</td>\n      <td>no</td>\n      <td>southeast</td>\n      <td>1725.55230</td>\n    </tr>\n    <tr>\n      <th>2</th>\n      <td>28</td>\n      <td>male</td>\n      <td>33.000</td>\n      <td>3</td>\n      <td>no</td>\n      <td>southeast</td>\n      <td>4449.46200</td>\n    </tr>\n    <tr>\n      <th>3</th>\n      <td>33</td>\n      <td>male</td>\n      <td>22.705</td>\n      <td>0</td>\n      <td>no</td>\n      <td>northwest</td>\n      <td>21984.47061</td>\n    </tr>\n    <tr>\n      <th>4</th>\n      <td>32</td>\n      <td>male</td>\n      <td>28.880</td>\n      <td>0</td>\n      <td>no</td>\n      <td>northwest</td>\n      <td>3866.85520</td>\n    </tr>\n    <tr>\n      <th>5</th>\n      <td>31</td>\n      <td>female</td>\n      <td>25.740</td>\n      <td>0</td>\n      <td>no</td>\n      <td>southeast</td>\n      <td>3756.62160</td>\n    </tr>\n    <tr>\n      <th>6</th>\n      <td>46</td>\n      <td>female</td>\n      <td>33.440</td>\n      <td>1</td>\n      <td>no</td>\n      <td>southeast</td>\n      <td>8240.58960</td>\n    </tr>\n    <tr>\n      <th>7</th>\n      <td>37</td>\n      <td>female</td>\n      <td>27.740</td>\n      <td>3</td>\n      <td>no</td>\n      <td>northwest</td>\n      <td>7281.50560</td>\n    </tr>\n    <tr>\n      <th>8</th>\n      <td>37</td>\n      <td>male</td>\n      <td>29.830</td>\n      <td>2</td>\n      <td>no</td>\n      <td>northeast</td>\n      <td>6406.41070</td>\n    </tr>\n    <tr>\n      <th>9</th>\n      <td>60</td>\n      <td>female</td>\n      <td>25.840</td>\n      <td>0</td>\n      <td>no</td>\n      <td>northwest</td>\n      <td>28923.13692</td>\n    </tr>\n  </tbody>\n</table>\n</div>"
     },
     "metadata": {},
     "execution_count": 2
    }
   ]
  },
  {
   "source": [
    "Find summary statistics:"
   ],
   "cell_type": "markdown",
   "metadata": {}
  },
  {
   "cell_type": "code",
   "execution_count": 19,
   "metadata": {},
   "outputs": [
    {
     "output_type": "stream",
     "name": "stdout",
     "text": [
      "There are 676 males in the dataset, and 662 females in the set.\nThe average male age is 38.92 and the average female age is 39.5\nThere were 1338 passengers in the northeast, 1338 in the northwest, 1338 in the southeast, and 1338 in the southwest.\nThere were 1.09 children on average per passenger\nThe average BMI for males was 30.94, and 30.94 for females\n"
     ]
    }
   ],
   "source": [
    "# How many men vs women\n",
    "males = us_insurance_costs[us_insurance_costs.sex == 'male']\n",
    "num_males = len(males)\n",
    "females = us_insurance_costs[us_insurance_costs.sex == 'female']\n",
    "num_females = len(females)\n",
    "print(\"There are {} males in the dataset, and {} females in the set.\".format(num_males, num_females))\n",
    "\n",
    "# Average age\n",
    "avg_age_males = round(males['age'].mean(), 2)\n",
    "avg_age_females = round(females['age'].mean(), 2)\n",
    "print(\"The average male age is {} and the average female age is {}\".format(avg_age_males, avg_age_females))\n",
    "\n",
    "# Locations\n",
    "northeast = us_insurance_costs[us_insurance_costs == 'northeast']\n",
    "num_northeast = len(northeast)\n",
    "northwest = us_insurance_costs[us_insurance_costs == 'northwest']\n",
    "num_northwest = len(northwest)\n",
    "southeast = us_insurance_costs[us_insurance_costs == 'southeast']\n",
    "num_southeast = len(southeast)\n",
    "southwest = us_insurance_costs[us_insurance_costs == 'southwest']\n",
    "num_southwest = len(southwest)\n",
    "print(\"There were {} passengers in the northeast, {} in the northwest, {} in the southeast, and {} in the southwest.\".format(num_northeast, num_northwest, num_southeast, num_southwest))\n",
    "\n",
    "# Children\n",
    "avg_children = round(us_insurance_costs['children'].mean(), 2)\n",
    "print(\"There were {} children on average per passenger\".format(avg_children))\n",
    "\n",
    "# BMI \n",
    "bmi_male = round(males['bmi'].mean(), 2)\n",
    "bmi_female = round(males['bmi'].mean(), 2)\n",
    "print(\"The average BMI for males was {}, and {} for females\".format(bmi_male, bmi_female))"
   ]
  }
 ]
}