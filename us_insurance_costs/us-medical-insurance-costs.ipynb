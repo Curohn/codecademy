{
 "cells": [
  {
   "cell_type": "markdown",
   "metadata": {},
   "source": [
    "# U.S. Medical Insurance Costs"
   ]
  },
  {
   "cell_type": "markdown",
   "metadata": {},
   "source": [
    "I've been given a .csv full of insurance data in the following format:\n",
    "age, sex, bmi, children, smoker, region, charges\n",
    "\n",
    "**Goals**:\n",
    "Identify the different insurance costs for individuals, based on their age, sex, bmi, etc. Determine the marginal cost, for increasing in any of these areas.\n",
    "* Investigate the difference in prices between men and women\n",
    "    * Compare both women with children, and women without to men to determine if children is the main culprit for any cost varience\n",
    "    * Compare the women's cost for each additional child, and find the average increase per child.\n",
    "* How does BMI coorolate with insurance cost. Identify the marginal cost for each additional unit of BMI\n",
    "    * Men vs. Women\n",
    "    * Plot relationship and marginal cost increases\n",
    "    * *This might not be a linear relationship, if so maybe group by different \"tiers\" of BMI values*\n",
    "\n",
    "**Side Goals**:\n",
    "* Find the average age for women with X children.\n",
    "\n",
    "**Plan**:\n",
    "* Identify some basic facts about the data, and if it is a representative sample of the population:\n",
    "    * How many men vs. women\n",
    "    * Average age for Men vs. Women\n",
    "    * Where are they located\n",
    "    * Average amount of children\n",
    "    * Breakdown of smoker/non-smoker, breakdown by men and women\n",
    "    * Average BMI, average for both men and women\n",
    "* Begin analysis"
   ]
  },
  {
   "cell_type": "code",
   "execution_count": 7,
   "metadata": {
    "tags": []
   },
   "outputs": [
    {
     "output_type": "execute_result",
     "data": {
      "text/plain": [
       "\"\\nCommenting out while I work on something else.\\n    # Grabbing location data from dict\\n    count_sw = []\\n    count_ne = []\\n    count_nw = []\\n    count_se = []\\n    for row in insurance_data_dict:\\n        if row['region'] == 'northeast':\\n            count_ne.append(row)\\n        elif row['region'] == 'northwest':\\n            count_nw.append(row)\\n        elif row['region'] == 'southeast':\\n            count_se.append(row)\\n        else:\\n            count_sw.append(row)\\n\""
      ]
     },
     "metadata": {},
     "execution_count": 7
    }
   ],
   "source": [
    "import csv\n",
    "\n",
    "with open('insurance.csv', 'r') as insurance_data:\n",
    "    insurance_data_dict = csv.DictReader(insurance_data)\n",
    "    \n",
    "    # Grabbing Male and Female data from dict\n",
    "    male_insurance_data = []\n",
    "    female_insurance_data = []\n",
    "    for row in insurance_data_dict:\n",
    "        if row['sex'] == 'male':\n",
    "            male_insurance_data.append(row)\n",
    "        else:\n",
    "            female_insurance_data.append(row)\n",
    "    \n",
    "\"\"\"\n",
    "Commenting out while I work on something else.\n",
    "    # Grabbing location data from dict\n",
    "    count_sw = []\n",
    "    count_ne = []\n",
    "    count_nw = []\n",
    "    count_se = []\n",
    "    for row in insurance_data_dict:\n",
    "        if row['region'] == 'northeast':\n",
    "            count_ne.append(row)\n",
    "        elif row['region'] == 'northwest':\n",
    "            count_nw.append(row)\n",
    "        elif row['region'] == 'southeast':\n",
    "            count_se.append(row)\n",
    "        else:\n",
    "            count_sw.append(row)\n",
    "\"\"\""
   ]
  },
  {
   "cell_type": "code",
   "execution_count": 8,
   "metadata": {},
   "outputs": [
    {
     "output_type": "stream",
     "name": "stdout",
     "text": [
      "There are 676 men and 662 women in our data\nThe average age for men is 38.92, and the average for women is 39.5\nThe average woman has 39.5 children.\n"
     ]
    }
   ],
   "source": [
    "# Lets start with some basic facts on our data\n",
    "# How many men and women are there in our data?\n",
    "number_of_men = len(male_insurance_data)\n",
    "number_of_women = len(female_insurance_data)\n",
    "print(\"There are {men} men and {women} women in our data\".format(men = number_of_men, women = number_of_women))\n",
    "\n",
    "# Whats the average age in our data?\n",
    "def average_age_calculator(dict):\n",
    "    age_sum = 0 \n",
    "    count = 0\n",
    "    str_holder = '' # I'm sure there is a better way to do this, but it works for now. \n",
    "    for row in dict:\n",
    "        str_holder = row['age']\n",
    "        age_sum += int(str_holder)\n",
    "        count += 1\n",
    "    return age_sum / count\n",
    "\n",
    "average_age_men = round(average_age_calculator(male_insurance_data), 2)\n",
    "average_age_women = round(average_age_calculator(female_insurance_data), 2)\n",
    "print(\"The average age for men is {male_average}, and the average for women is {female_average}\".format(male_average = average_age_men, female_average = average_age_women))\n",
    "\n",
    "\"\"\"\n",
    "# Where is everyone located?\n",
    "print(\"There are {ne} people in the north east, {nw} in the north west, {se} in the south east, {sw} in the south west\".format(ne = len(count_ne), nw = len(count_nw), se = len(count_se), sw = len(count_sw)))\n",
    "\"\"\"\n",
    "\n",
    "# How many children does each women have?\n",
    "average_children = 0\n",
    "def average_children_calculator(dict):\n",
    "    age_sum = 0\n",
    "    count = 0\n",
    "    for row in dict:\n",
    "        age_sum += woman['children']\n",
    "        count += 1\n",
    "    return age_sum / count\n",
    "average_children = round(average_age_calculator(female_insurance_data), 2)\n",
    "print(\"The average woman has {x} children.\".format(x = average_children))"
   ]
  },
  {
   "cell_type": "code",
   "execution_count": null,
   "metadata": {},
   "outputs": [],
   "source": []
  }
 ],
 "metadata": {
  "kernelspec": {
   "display_name": "Python 3",
   "language": "python",
   "name": "python3"
  },
  "language_info": {
   "codemirror_mode": {
    "name": "ipython",
    "version": 3
   },
   "file_extension": ".py",
   "mimetype": "text/x-python",
   "name": "python",
   "nbconvert_exporter": "python",
   "pygments_lexer": "ipython3",
   "version": "3.8.5-final"
  }
 },
 "nbformat": 4,
 "nbformat_minor": 4
}